{
 "cells": [
  {
   "cell_type": "markdown",
   "metadata": {},
   "source": [
    "## DATA ENGINEERING PLATFORMS (MSCA 31012)\n",
    "\n",
    "### File      :   Class Exercise - Session 9 -  Blockchain\n",
    "\n",
    "### Desc     :  Blockchain Explained in 7 Python Functions\n",
    "### Date      :   06/11/2019\n",
    "\n",
    "References: \n",
    "http://adilmoujahid.com/posts/2018/03/intro-blockchain-bitcoin-python/\n"
   ]
  },
  {
   "cell_type": "markdown",
   "metadata": {},
   "source": [
    "Blockchain is arguably one of the most significant and disruptive technologies that came into existence since the inception of the Internet. It's the core technology behind Bitcoin and other crypto-currencies that drew a lot of attention in the last few years.\n",
    "\n",
    "As its core, a blockchain is a distributed database that allows direct transactions between two parties without the need of a central authority. This simple yet powerful concept has great implications for various institutions such as banks, governments and marketplaces, just to name a few. Any business or organization that relies on a centralized database as a core competitive advantage can potentially be disrupted by blockchain technology.\n",
    "\n",
    "Putting aside all the hype around the price of Bitcoin and other cryptocurrencies, the goal of this blog post is to give you a practical introduction to blockchain technology. Sections 1 and 2 cover some core concepts behind blockchain, while section 3 shows how to implement a blockchain using Python. We will also implement 2 web applications to make it easy for end users to interact with our blockchain.\n",
    "\n",
    "Please note that I'm using Bitcoin here as a medium for explaning the more general technology of \"Blockchain\", and most of the concepts described in this post are applicable to other blockchain use cases and crypto-currencies."
   ]
  },
  {
   "cell_type": "code",
   "execution_count": null,
   "metadata": {
    "collapsed": true
   },
   "outputs": [],
   "source": [
    "class Transaction:\n",
    "\n",
    "    def __init__(self, sender_address, sender_private_key, recipient_address, value):\n",
    "        self.sender_address = sender_address\n",
    "        self.sender_private_key = sender_private_key\n",
    "        self.recipient_address = recipient_address\n",
    "        self.value = value\n",
    "\n",
    "    def __getattr__(self, attr):\n",
    "        return self.data[attr]\n",
    "\n",
    "    def to_dict(self):\n",
    "        return OrderedDict({'sender_address': self.sender_address,\n",
    "                            'recipient_address': self.recipient_address,\n",
    "                            'value': self.value})\n",
    "\n",
    "    def sign_transaction(self):\n",
    "        \"\"\"\n",
    "        Sign transaction with private key\n",
    "        \"\"\"\n",
    "        private_key = RSA.importKey(binascii.unhexlify(self.sender_private_key))\n",
    "        signer = PKCS1_v1_5.new(private_key)\n",
    "        h = SHA.new(str(self.to_dict()).encode('utf8'))\n",
    "        return binascii.hexlify(signer.sign(h)).decode('ascii')"
   ]
  },
  {
   "cell_type": "code",
   "execution_count": null,
   "metadata": {
    "collapsed": true
   },
   "outputs": [],
   "source": []
  }
 ],
 "metadata": {
  "kernelspec": {
   "display_name": "Python 3",
   "language": "python",
   "name": "python3"
  },
  "language_info": {
   "codemirror_mode": {
    "name": "ipython",
    "version": 3
   },
   "file_extension": ".py",
   "mimetype": "text/x-python",
   "name": "python",
   "nbconvert_exporter": "python",
   "pygments_lexer": "ipython3",
   "version": "3.6.3"
  }
 },
 "nbformat": 4,
 "nbformat_minor": 2
}
