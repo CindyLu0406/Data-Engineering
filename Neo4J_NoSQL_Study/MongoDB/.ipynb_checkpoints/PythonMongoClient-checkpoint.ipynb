{
 "cells": [
  {
   "cell_type": "markdown",
   "metadata": {},
   "source": [
    "### DATA ENGINEERING PLATFORMS (MSCA 31012)\n",
    "### File        :   Class Exercise - Session 8 - PythonMongoClient\n",
    "### Desc     :  Connecting to MongoDB via Jupyter Notebook\n",
    "### Authors:  Shreenidhi Bharadwaj\n",
    "### Date      :   03/12/2019                     \n",
    "\n",
    "References: \n",
    "https://docs.mongodb.com/getting-started/python/client/\n",
    "https://blog.exploratory.io/an-introduction-to-mongodb-query-for-beginners-bd463319aa4c/\n",
    "https://docs.mongodb.com/manual/tutorial/getting-started/ \n",
    "\n",
    "Installation:\n",
    "`pip install pymongo`\n",
    "\n",
    "pymongo is an interface for connecting to a Mongo database server from Python. The steps are as follows:\n",
    "\n",
    "1. Install and start MongoDB on your local machine.\n",
    "2. Make sure to run mongod with the data folder option\n",
    "    \"C:\\Program Files\\MongoDB\\Server\\4.0\\bin\\mongod.exe\" --dbpath \"C:\\data\"\n",
    "    \n",
    "    Mac Users : /usr/local/mongoDB/bin/mongo\n",
    "\n",
    "3. Download file \n",
    "https://raw.githubusercontent.com/mongodb/docs-assets/primer-dataset/primer-dataset.json\n",
    "\n",
    "4. Import downloaded sample data into Mongo DB (25359 documents)\n",
    "mongoimport --db test --collection restaurants --drop --file \"C:\\Users\\SBharadwaj\\Desktop\\Shree\\DEPA\\03-Lectures\\8\\Exercises\\MongoDB\\primer-dataset.json\""
   ]
  },
  {
   "cell_type": "code",
   "execution_count": 15,
   "metadata": {},
   "outputs": [
    {
     "name": "stdout",
     "output_type": "stream",
     "text": [
      "Requirement already satisfied: pymongo in c:\\users\\sbharadwaj\\appdata\\local\\continuum\\anaconda3\\lib\\site-packages (3.6.1)\n"
     ]
    },
    {
     "name": "stderr",
     "output_type": "stream",
     "text": [
      "You are using pip version 18.1, however version 19.0.3 is available.\n",
      "You should consider upgrading via the 'python -m pip install --upgrade pip' command.\n"
     ]
    }
   ],
   "source": [
    "#Installation:\n",
    "!pip install pymongo"
   ]
  },
  {
   "cell_type": "code",
   "execution_count": 16,
   "metadata": {
    "collapsed": true
   },
   "outputs": [],
   "source": [
    "#import libraries\n",
    "import pymongo\n",
    "import json\n",
    "from pymongo import MongoClient"
   ]
  },
  {
   "cell_type": "markdown",
   "metadata": {},
   "source": [
    "### Connect to MongoDB"
   ]
  },
  {
   "cell_type": "code",
   "execution_count": 17,
   "metadata": {
    "collapsed": true
   },
   "outputs": [],
   "source": [
    "#connect to local database server\n",
    "client = MongoClient()\n",
    "\n",
    "#switch to test DB\n",
    "db = client.test"
   ]
  },
  {
   "cell_type": "code",
   "execution_count": 18,
   "metadata": {
    "collapsed": true
   },
   "outputs": [],
   "source": [
    "# function to print only first n documents (to avoid perf/memory issues)\n",
    "def printhead(cursor, n):\n",
    "    for idx,document in enumerate(cursor):\n",
    "        if idx <= n: \n",
    "            print(document)\n",
    "        else:\n",
    "            break"
   ]
  },
  {
   "cell_type": "markdown",
   "metadata": {},
   "source": [
    "### Query MongoDB"
   ]
  },
  {
   "cell_type": "code",
   "execution_count": 19,
   "metadata": {},
   "outputs": [
    {
     "name": "stdout",
     "output_type": "stream",
     "text": [
      "{'_id': ObjectId('5c87419c46bd13943bb0407a'), 'address': {'building': '1007', 'coord': [-73.856077, 40.848447], 'street': 'Morris Park Ave', 'zipcode': '10462'}, 'borough': 'Bronx', 'cuisine': 'Bakery', 'grades': [{'date': datetime.datetime(2014, 3, 3, 0, 0), 'grade': 'A', 'score': 2}, {'date': datetime.datetime(2013, 9, 11, 0, 0), 'grade': 'A', 'score': 6}, {'date': datetime.datetime(2013, 1, 24, 0, 0), 'grade': 'A', 'score': 10}, {'date': datetime.datetime(2011, 11, 23, 0, 0), 'grade': 'A', 'score': 9}, {'date': datetime.datetime(2011, 3, 10, 0, 0), 'grade': 'B', 'score': 14}], 'name': 'Morris Park Bake Shop', 'restaurant_id': '30075445'}\n",
      "{'_id': ObjectId('5c87419c46bd13943bb0407b'), 'address': {'building': '469', 'coord': [-73.961704, 40.662942], 'street': 'Flatbush Avenue', 'zipcode': '11225'}, 'borough': 'Brooklyn', 'cuisine': 'Hamburgers', 'grades': [{'date': datetime.datetime(2014, 12, 30, 0, 0), 'grade': 'A', 'score': 8}, {'date': datetime.datetime(2014, 7, 1, 0, 0), 'grade': 'B', 'score': 23}, {'date': datetime.datetime(2013, 4, 30, 0, 0), 'grade': 'A', 'score': 12}, {'date': datetime.datetime(2012, 5, 8, 0, 0), 'grade': 'A', 'score': 12}], 'name': \"Wendy'S\", 'restaurant_id': '30112340'}\n",
      "{'_id': ObjectId('5c87419c46bd13943bb0407c'), 'address': {'building': '97-22', 'coord': [-73.8601152, 40.7311739], 'street': '63 Road', 'zipcode': '11374'}, 'borough': 'Queens', 'cuisine': 'Jewish/Kosher', 'grades': [{'date': datetime.datetime(2014, 11, 24, 0, 0), 'grade': 'Z', 'score': 20}, {'date': datetime.datetime(2013, 1, 17, 0, 0), 'grade': 'A', 'score': 13}, {'date': datetime.datetime(2012, 8, 2, 0, 0), 'grade': 'A', 'score': 13}, {'date': datetime.datetime(2011, 12, 15, 0, 0), 'grade': 'B', 'score': 25}], 'name': 'Tov Kosher Kitchen', 'restaurant_id': '40356068'}\n"
     ]
    }
   ],
   "source": [
    "# List the first 2 documents in the db \n",
    "restaurants = db.restaurants.find()\n",
    "printhead(restaurants, 2)"
   ]
  },
  {
   "cell_type": "markdown",
   "metadata": {},
   "source": [
    "#### Cut paste the JSON results into a JSON formatter ( URL below ) and click on format to get a clean view of the data\n",
    "http://jsonviewer.stack.hu/  ( Pretty JSON ) "
   ]
  },
  {
   "cell_type": "code",
   "execution_count": 20,
   "metadata": {},
   "outputs": [
    {
     "name": "stdout",
     "output_type": "stream",
     "text": [
      "{'_id': ObjectId('5c87419c46bd13943bb04080'), 'address': {'building': '351', 'coord': [-73.98513559999999, 40.7676919], 'street': 'West   57 Street', 'zipcode': '10019'}, 'borough': 'Manhattan', 'cuisine': 'Irish', 'grades': [{'date': datetime.datetime(2014, 9, 6, 0, 0), 'grade': 'A', 'score': 2}, {'date': datetime.datetime(2013, 7, 22, 0, 0), 'grade': 'A', 'score': 11}, {'date': datetime.datetime(2012, 7, 31, 0, 0), 'grade': 'A', 'score': 12}, {'date': datetime.datetime(2011, 12, 29, 0, 0), 'grade': 'A', 'score': 12}], 'name': 'Dj Reynolds Pub And Restaurant', 'restaurant_id': '30191841'}\n",
      "{'_id': ObjectId('5c87419c46bd13943bb04084'), 'address': {'building': '1', 'coord': [-73.96926909999999, 40.7685235], 'street': 'East   66 Street', 'zipcode': '10065'}, 'borough': 'Manhattan', 'cuisine': 'American ', 'grades': [{'date': datetime.datetime(2014, 5, 7, 0, 0), 'grade': 'A', 'score': 3}, {'date': datetime.datetime(2013, 5, 3, 0, 0), 'grade': 'A', 'score': 4}, {'date': datetime.datetime(2012, 4, 30, 0, 0), 'grade': 'A', 'score': 6}, {'date': datetime.datetime(2011, 12, 27, 0, 0), 'grade': 'A', 'score': 0}], 'name': '1 East 66Th Street Kitchen', 'restaurant_id': '40359480'}\n",
      "{'_id': ObjectId('5c87419c46bd13943bb0408b'), 'address': {'building': '522', 'coord': [-73.95171, 40.767461], 'street': 'East   74 Street', 'zipcode': '10021'}, 'borough': 'Manhattan', 'cuisine': 'American ', 'grades': [{'date': datetime.datetime(2014, 9, 2, 0, 0), 'grade': 'A', 'score': 12}, {'date': datetime.datetime(2013, 12, 19, 0, 0), 'grade': 'B', 'score': 16}, {'date': datetime.datetime(2013, 5, 28, 0, 0), 'grade': 'A', 'score': 9}, {'date': datetime.datetime(2012, 12, 7, 0, 0), 'grade': 'A', 'score': 13}, {'date': datetime.datetime(2012, 3, 29, 0, 0), 'grade': 'A', 'score': 11}], 'name': 'Glorious Food', 'restaurant_id': '40361521'}\n"
     ]
    }
   ],
   "source": [
    "# List all documents in the restaurant collection where borough is Manhattan\n",
    "restaurantData = db.restaurants.find({\"borough\": \"Manhattan\"})\n",
    "printhead(restaurantData, 2)"
   ]
  },
  {
   "cell_type": "code",
   "execution_count": 21,
   "metadata": {},
   "outputs": [
    {
     "name": "stdout",
     "output_type": "stream",
     "text": [
      "{'_id': ObjectId('5c87419d46bd13943bb093e2'), 'address': {'building': '650', 'coord': [-73.92537449999999, 40.8207116], 'street': 'Grand Concourse', 'zipcode': ''}, 'borough': 'Bronx', 'cuisine': 'Sandwiches', 'grades': [{'date': datetime.datetime(2014, 9, 30, 0, 0), 'grade': 'A', 'score': 7}], 'name': 'Subway#50497 (Cardinal Hayes High School)', 'restaurant_id': '50006048'}\n",
      "{'_id': ObjectId('5c87419c46bd13943bb040e6'), 'address': {'building': '72', 'coord': [-73.92506, 40.8275556], 'street': 'East  161 Street', 'zipcode': '10451'}, 'borough': 'Bronx', 'cuisine': 'American ', 'grades': [{'date': datetime.datetime(2014, 4, 15, 0, 0), 'grade': 'A', 'score': 9}, {'date': datetime.datetime(2013, 11, 14, 0, 0), 'grade': 'A', 'score': 4}, {'date': datetime.datetime(2013, 7, 29, 0, 0), 'grade': 'A', 'score': 10}, {'date': datetime.datetime(2012, 12, 31, 0, 0), 'grade': 'B', 'score': 15}, {'date': datetime.datetime(2012, 5, 30, 0, 0), 'grade': 'A', 'score': 13}, {'date': datetime.datetime(2012, 1, 9, 0, 0), 'grade': 'A', 'score': 10}, {'date': datetime.datetime(2011, 8, 15, 0, 0), 'grade': 'C', 'score': 37}], 'name': 'Yankee Tavern', 'restaurant_id': '40365499'}\n",
      "{'_id': ObjectId('5c87419c46bd13943bb043e7'), 'address': {'building': '101', 'coord': [-73.9243061, 40.8276297], 'street': 'East 161 Street', 'zipcode': '10451'}, 'borough': 'Bronx', 'cuisine': 'Latin (Cuban, Dominican, Puerto Rican, South & Central American)', 'grades': [{'date': datetime.datetime(2014, 4, 10, 0, 0), 'grade': 'A', 'score': 10}, {'date': datetime.datetime(2013, 10, 1, 0, 0), 'grade': 'A', 'score': 6}, {'date': datetime.datetime(2013, 4, 11, 0, 0), 'grade': 'B', 'score': 25}, {'date': datetime.datetime(2012, 10, 25, 0, 0), 'grade': 'A', 'score': 12}, {'date': datetime.datetime(2012, 10, 10, 0, 0), 'grade': 'P', 'score': 12}, {'date': datetime.datetime(2012, 5, 25, 0, 0), 'grade': 'B', 'score': 14}, {'date': datetime.datetime(2011, 9, 14, 0, 0), 'grade': 'B', 'score': 26}, {'date': datetime.datetime(2011, 4, 25, 0, 0), 'grade': 'C', 'score': 76}], 'name': 'El Molino Rojo Restaurant', 'restaurant_id': '40393688'}\n"
     ]
    }
   ],
   "source": [
    "#### Sort the query results based on borougn and zipcode\n",
    "restaurantData = db.restaurants.find().sort([\n",
    "    (\"borough\", pymongo.ASCENDING),\n",
    "    (\"address.zipcode\", pymongo.ASCENDING)\n",
    "])\n",
    "printhead(restaurantData, 2)"
   ]
  },
  {
   "cell_type": "markdown",
   "metadata": {},
   "source": [
    "#### Insert data"
   ]
  },
  {
   "cell_type": "code",
   "execution_count": 22,
   "metadata": {
    "collapsed": true
   },
   "outputs": [],
   "source": [
    "# insert data relating to a new restaurant\n",
    "from datetime import datetime\n",
    "result = db.restaurants.insert_one(\n",
    "    {\n",
    "        \"address\": {\n",
    "            \"street\": \"2 Avenue\",\n",
    "            \"zipcode\": \"10075\",\n",
    "            \"building\": \"1480\",\n",
    "            \"coord\": [-73.9557413, 40.7720266]\n",
    "        },\n",
    "        \"borough\": \"Manhattan\",\n",
    "        \"cuisine\": \"Italian\",\n",
    "        \"grades\": [\n",
    "            {\n",
    "                \"date\": datetime.strptime(\"2014-10-01\", \"%Y-%m-%d\"),\n",
    "                \"grade\": \"A\",\n",
    "                \"score\": 11\n",
    "            },\n",
    "            {\n",
    "                \"date\": datetime.strptime(\"2014-01-16\", \"%Y-%m-%d\"),\n",
    "                \"grade\": \"B\",\n",
    "                \"score\": 17\n",
    "            }\n",
    "        ],\n",
    "        \"name\": \"Vella\",\n",
    "        \"restaurant_id\": \"41704620\"\n",
    "    }\n",
    ")"
   ]
  },
  {
   "cell_type": "code",
   "execution_count": 23,
   "metadata": {},
   "outputs": [
    {
     "data": {
      "text/plain": [
       "<pymongo.results.InsertOneResult at 0x1babb6e1508>"
      ]
     },
     "execution_count": 23,
     "metadata": {},
     "output_type": "execute_result"
    }
   ],
   "source": [
    "#print object type of the result\n",
    "result"
   ]
  },
  {
   "cell_type": "code",
   "execution_count": 24,
   "metadata": {},
   "outputs": [
    {
     "data": {
      "text/plain": [
       "ObjectId('5c8741c734bf0f80f82fee71')"
      ]
     },
     "execution_count": 24,
     "metadata": {},
     "output_type": "execute_result"
    }
   ],
   "source": [
    "#check document that was inserted\n",
    "result.inserted_id"
   ]
  },
  {
   "cell_type": "markdown",
   "metadata": {},
   "source": [
    "#### Insert more than one documents"
   ]
  },
  {
   "cell_type": "code",
   "execution_count": 25,
   "metadata": {
    "collapsed": true
   },
   "outputs": [],
   "source": [
    "result = db.test.insert_many([{\n",
    "        \"address\": {\n",
    "            \"street\": \"2 Avenue\",\n",
    "            \"zipcode\": \"10075\",\n",
    "            \"building\": \"1480\",\n",
    "            \"coord\": [-72.937413, 40.75466]\n",
    "        },\n",
    "        \"borough\": \"Manhattan\",\n",
    "        \"cuisine\": \"Indian\",\n",
    "        \"grades\": [\n",
    "            {\n",
    "                \"date\": datetime.strptime(\"2014-10-01\", \"%Y-%m-%d\"),\n",
    "                \"grade\": \"A\",\n",
    "                \"score\": 11\n",
    "            },\n",
    "            {\n",
    "                \"date\": datetime.strptime(\"2015-05-16\", \"%Y-%m-%d\"),\n",
    "                \"grade\": \"B\",\n",
    "                \"score\": 17\n",
    "            }\n",
    "        ],\n",
    "        \"name\": \"India Garden\",\n",
    "        \"restaurant_id\": \"4170462\" + str(i)\n",
    "    } for i in range(4)])"
   ]
  },
  {
   "cell_type": "code",
   "execution_count": 26,
   "metadata": {},
   "outputs": [
    {
     "data": {
      "text/plain": [
       "[ObjectId('5c8741cb34bf0f80f82fee72'),\n",
       " ObjectId('5c8741cb34bf0f80f82fee73'),\n",
       " ObjectId('5c8741cb34bf0f80f82fee74'),\n",
       " ObjectId('5c8741cb34bf0f80f82fee75')]"
      ]
     },
     "execution_count": 26,
     "metadata": {},
     "output_type": "execute_result"
    }
   ],
   "source": [
    "#documents that were inserted\n",
    "result.inserted_ids"
   ]
  },
  {
   "cell_type": "markdown",
   "metadata": {},
   "source": [
    "#### Update documents { update_one(),update_many() }\n",
    "In MongoDB, a write operation is atomic on the level of a single document, even if the operation modifies multiple embedded documents within a single document. When a single write operation modifies multiple documents, the modification of each document is atomic, but the operation as a whole is not atomic and other operations may interleave.However, you can isolate a single write operation that affects multiple documents using the $isolated operator."
   ]
  },
  {
   "cell_type": "code",
   "execution_count": 27,
   "metadata": {
    "collapsed": true
   },
   "outputs": [],
   "source": [
    "#update document \n",
    "result = db.restaurants.update_one(\n",
    "    {\"cuisine\": \"Indian\"},\n",
    "    {\n",
    "        \"$set\": {\n",
    "            \"name\": \"Mexican Garden\"\n",
    "        },\n",
    "        \"$currentDate\": {\"lastModified\": True}\n",
    "    }\n",
    ")"
   ]
  },
  {
   "cell_type": "code",
   "execution_count": 28,
   "metadata": {},
   "outputs": [
    {
     "name": "stdout",
     "output_type": "stream",
     "text": [
      "1\n",
      "1\n",
      "{'_id': ObjectId('5c87419c46bd13943bb041a6'), 'address': {'building': '320', 'coord': [-73.977597, 40.779593], 'street': 'Columbus Avenue', 'zipcode': '10023'}, 'borough': 'Manhattan', 'cuisine': 'Indian', 'grades': [{'date': datetime.datetime(2014, 10, 27, 0, 0), 'grade': 'A', 'score': 7}, {'date': datetime.datetime(2013, 7, 29, 0, 0), 'grade': 'A', 'score': 5}, {'date': datetime.datetime(2013, 2, 19, 0, 0), 'grade': 'A', 'score': 11}, {'date': datetime.datetime(2012, 1, 12, 0, 0), 'grade': 'A', 'score': 2}], 'name': 'Mexican Garden', 'restaurant_id': '40370243', 'lastModified': datetime.datetime(2019, 3, 12, 5, 21, 17, 760000)}\n"
     ]
    }
   ],
   "source": [
    "#documents that were updated\n",
    "print (result.matched_count)\n",
    "print (result.modified_count)\n",
    "cursor = db.restaurants.find({\"name\": \"Mexican Garden\"})\n",
    "printhead(cursor, 10)"
   ]
  },
  {
   "cell_type": "markdown",
   "metadata": {},
   "source": [
    "####  Replace documents {replace_one()}\n",
    "To replace the entire document rather than selected fields"
   ]
  },
  {
   "cell_type": "code",
   "execution_count": 29,
   "metadata": {
    "collapsed": true
   },
   "outputs": [],
   "source": [
    "#update documents\n",
    "#After the update, the document only contains the field or fields in the replacement document.\n",
    "\n",
    "result = db.restaurants.replace_one(\n",
    "    {\"restaurant_id\": \"41704620\"},\n",
    "    {\n",
    "        \"name\": \"Mexican Garden\",\n",
    "        \"cuisine\": \"Mexican\",\n",
    "        \"address\": {\n",
    "            \"coord\": [-73.9557413, 40.7720266],\n",
    "            \"building\": \"1480\",\n",
    "            \"street\": \"2 Avenue\",\n",
    "            \"zipcode\": \"10075\"\n",
    "        }\n",
    "    }\n",
    ")"
   ]
  },
  {
   "cell_type": "code",
   "execution_count": 30,
   "metadata": {},
   "outputs": [
    {
     "name": "stdout",
     "output_type": "stream",
     "text": [
      "1\n",
      "1\n",
      "{'_id': ObjectId('5c87419c46bd13943bb041a6'), 'address': {'building': '320', 'coord': [-73.977597, 40.779593], 'street': 'Columbus Avenue', 'zipcode': '10023'}, 'borough': 'Manhattan', 'cuisine': 'Indian', 'grades': [{'date': datetime.datetime(2014, 10, 27, 0, 0), 'grade': 'A', 'score': 7}, {'date': datetime.datetime(2013, 7, 29, 0, 0), 'grade': 'A', 'score': 5}, {'date': datetime.datetime(2013, 2, 19, 0, 0), 'grade': 'A', 'score': 11}, {'date': datetime.datetime(2012, 1, 12, 0, 0), 'grade': 'A', 'score': 2}], 'name': 'Mexican Garden', 'restaurant_id': '40370243', 'lastModified': datetime.datetime(2019, 3, 12, 5, 21, 17, 760000)}\n",
      "{'_id': ObjectId('5c87419d46bd13943bb08575'), 'name': 'Mexican Garden', 'cuisine': 'Mexican', 'address': {'coord': [-73.9557413, 40.7720266], 'building': '1480', 'street': '2 Avenue', 'zipcode': '10075'}}\n"
     ]
    }
   ],
   "source": [
    "#documents that were updated\n",
    "print (result.matched_count)\n",
    "print (result.modified_count)\n",
    "cursor = db.restaurants.find({\"name\": \"Mexican Garden\"})\n",
    "printhead(cursor, 10)"
   ]
  },
  {
   "cell_type": "markdown",
   "metadata": {},
   "source": [
    "####  Data Aggregation, Grouping & Sorting \n",
    "Documents enter a multi-stage pipeline that transforms the documents into aggregated results"
   ]
  },
  {
   "cell_type": "code",
   "execution_count": 31,
   "metadata": {},
   "outputs": [
    {
     "name": "stdout",
     "output_type": "stream",
     "text": [
      "{'_id': 'Manhattan', 'count': 10259}\n",
      "{'_id': 'Staten Island', 'count': 969}\n",
      "{'_id': None, 'count': 1}\n",
      "{'_id': 'Brooklyn', 'count': 6086}\n",
      "{'_id': 'Missing', 'count': 51}\n",
      "{'_id': 'Queens', 'count': 5656}\n",
      "{'_id': 'Bronx', 'count': 2338}\n"
     ]
    }
   ],
   "source": [
    "# Groups documents by city and get counts of each sorted in descending order\n",
    "cursor = db.restaurants.aggregate(\n",
    "    [ \n",
    "        { '$group': { '_id': \"$borough\", \"count\": { '$sum': 1 } } },\n",
    "        { '$sort' : {'total' : -1} }\n",
    "    ]\n",
    ")\n",
    "printhead(cursor, 10)"
   ]
  },
  {
   "cell_type": "code",
   "execution_count": 32,
   "metadata": {},
   "outputs": [
    {
     "name": "stdout",
     "output_type": "stream",
     "text": [
      "{'_id': None, 'Bronx restaurants': 2338}\n"
     ]
    }
   ],
   "source": [
    "# find a list of restaurants located in the Bronx, grouped by restaurant category\n",
    "cursor = db.restaurants.aggregate( \n",
    "      [ \n",
    "          { '$match': { \"borough\": \"Bronx\" } },\n",
    "#           { '$unwind': '$categories'},\n",
    "          { '$group': { '_id': \"$categories\", 'Bronx restaurants': { '$sum': 1 } } }\n",
    "      ]  )\n",
    "printhead(cursor, 10)"
   ]
  },
  {
   "cell_type": "code",
   "execution_count": 33,
   "metadata": {},
   "outputs": [
    {
     "name": "stdout",
     "output_type": "stream",
     "text": [
      "{'_id': '11368', 'count': 1}\n",
      "{'_id': '11101', 'count': 2}\n",
      "{'_id': '11106', 'count': 3}\n",
      "{'_id': '11377', 'count': 1}\n",
      "{'_id': '11103', 'count': 1}\n"
     ]
    }
   ],
   "source": [
    "# The following pipeline uses $match to query the restaurants collection for documents with borough \n",
    "# equal to \"Queens\" and cuisine equal to Brazilian. The _id field contains the distinct zipcode value.\n",
    "cursor = db.restaurants.aggregate(\n",
    "   [\n",
    "     { '$match': { \"borough\": \"Queens\", \"cuisine\": \"Brazilian\" } },\n",
    "     { '$group': { \"_id\": \"$address.zipcode\" , \"count\": { '$sum': 1 } } }\n",
    "   ] )\n",
    "printhead(cursor, 10)"
   ]
  },
  {
   "cell_type": "markdown",
   "metadata": {},
   "source": [
    "### Delete documents\n",
    "\n",
    "delete_one(), delete_many()"
   ]
  },
  {
   "cell_type": "code",
   "execution_count": 34,
   "metadata": {},
   "outputs": [
    {
     "data": {
      "text/plain": [
       "<pymongo.results.DeleteResult at 0x1babb79fbc8>"
      ]
     },
     "execution_count": 34,
     "metadata": {},
     "output_type": "execute_result"
    }
   ],
   "source": [
    "#delete one document where name matches condition\n",
    "db.restaurants.delete_one({\"name\": \"India Garden\"})"
   ]
  },
  {
   "cell_type": "code",
   "execution_count": 35,
   "metadata": {},
   "outputs": [
    {
     "data": {
      "text/plain": [
       "<pymongo.results.DeleteResult at 0x1babb6a33c8>"
      ]
     },
     "execution_count": 35,
     "metadata": {},
     "output_type": "execute_result"
    }
   ],
   "source": [
    "#delete all documents where name matches condition\n",
    "db.restaurants.delete_many({\"name\": \"India Garden\"})"
   ]
  },
  {
   "cell_type": "code",
   "execution_count": 36,
   "metadata": {},
   "outputs": [
    {
     "data": {
      "text/plain": [
       "<pymongo.results.DeleteResult at 0x1babb7c8fc8>"
      ]
     },
     "execution_count": 36,
     "metadata": {},
     "output_type": "execute_result"
    }
   ],
   "source": [
    "#delete all documents - empties the DB\n",
    "db.restaurants.delete_many({})"
   ]
  },
  {
   "cell_type": "code",
   "execution_count": 37,
   "metadata": {
    "collapsed": true
   },
   "outputs": [],
   "source": [
    "#find the first 10 documents in the db - none should be found since the data was deleted \n",
    "cursor = db.restaurants.find()\n",
    "printhead(cursor, 10)"
   ]
  },
  {
   "cell_type": "markdown",
   "metadata": {},
   "source": [
    "### Explore Further\n",
    "\n",
    "https://docs.mongodb.com/manual/core/bulk-write-operations/\n",
    "\n",
    "https://docs.mongodb.com/manual/reference/sql-comparison/"
   ]
  }
 ],
 "metadata": {
  "anaconda-cloud": {},
  "kernelspec": {
   "display_name": "Python 3",
   "language": "python",
   "name": "python3"
  },
  "language_info": {
   "codemirror_mode": {
    "name": "ipython",
    "version": 3
   },
   "file_extension": ".py",
   "mimetype": "text/x-python",
   "name": "python",
   "nbconvert_exporter": "python",
   "pygments_lexer": "ipython3",
   "version": "3.6.3"
  }
 },
 "nbformat": 4,
 "nbformat_minor": 1
}
