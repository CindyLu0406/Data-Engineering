{
 "cells": [
  {
   "cell_type": "markdown",
   "metadata": {},
   "source": [
    "## DATA ENGINEERING PLATFORMS (MSCA 31012)\n",
    "\n",
    "### File      :   Class Exercise - Session 10 - Sample Blockchain Implementation\n",
    "\n",
    "### Desc     :  Blockchain Explained in 7 Python Functions\n",
    "### Date      :   06/11/2019\n",
    "\n",
    "References: \n",
    "https://www.kdnuggets.com/2018/04/blockchain-explained-7-python-functions.html\n"
   ]
  },
  {
   "cell_type": "code",
   "execution_count": 1,
   "metadata": {},
   "outputs": [],
   "source": [
    "import json\n",
    "import hashlib\n",
    "import random"
   ]
  },
  {
   "cell_type": "markdown",
   "metadata": {},
   "source": [
    "Blockchain is it is an encrypted database that is public. At the heart of the blockchain is the hashing function. Without encryption, the blockchain will be easily manipulated and transactions will be able to be fraudulently inserted."
   ]
  },
  {
   "cell_type": "code",
   "execution_count": 30,
   "metadata": {
    "collapsed": true
   },
   "outputs": [],
   "source": [
    "def hash_function(k):\n",
    "    \"\"\"Hashes our transaction.\"\"\"\n",
    "    if type(k) is not str:\n",
    "        k = json.dumps(k, sort_keys=True)\n",
    "\n",
    "        return hashlib.sha256(str(random.getrandbits(256)).encode('utf-8')).hexdigest()"
   ]
  },
  {
   "cell_type": "markdown",
   "metadata": {},
   "source": [
    "The ‘state’ is the record of ownership. For example, if Tom have 10 coins and he gives 1 to Medium, then the state will be  {‘transaction’: {‘Tom’: 9, ‘Medium’: 1}}"
   ]
  },
  {
   "cell_type": "code",
   "execution_count": 12,
   "metadata": {
    "collapsed": true
   },
   "outputs": [],
   "source": [
    "def update_state(transaction, state):\n",
    "    state = state.copy()\n",
    "\n",
    "    for key in transaction:\n",
    "        if key in state.keys():\n",
    "            state[key] += transaction[key]\n",
    "        else:\n",
    "            state[key] = transaction[key]\n",
    "\n",
    "    return state"
   ]
  },
  {
   "cell_type": "markdown",
   "metadata": {},
   "source": [
    "The important thing to note is that overdrafts cannot exist. If there are only 10 coins in existence, then I cannot give 11 coins to someone. The below function verifies that the transaction we attempt to make is indeed valid. Also, a transaction must balance. I cannot give 5 coins and have the recipient receive 4 coins, since that would allow the destruction and creation of coins."
   ]
  },
  {
   "cell_type": "code",
   "execution_count": 13,
   "metadata": {
    "collapsed": true
   },
   "outputs": [],
   "source": [
    "def valid_transaction(transaction, state):\n",
    "    \"\"\"A valid transaction must sum to 0.\"\"\"\n",
    "    if sum(transaction.values()) is not 0:\n",
    "        return False\n",
    "\n",
    "    for key in transaction.keys():\n",
    "        if key in state.keys():\n",
    "            account_balance = state[key]\n",
    "        else:\n",
    "            account_balance = 0\n",
    "\n",
    "        if account_balance + transaction[key] < 0:\n",
    "            return False\n",
    "\n",
    "    return True"
   ]
  },
  {
   "cell_type": "markdown",
   "metadata": {},
   "source": [
    "Now, we can make our block. The information from the previous block is read, and used to link it to the new block. This, too, is central to the idea of blockchain. Seemingly valid transactions can be attempted to fraudulently be inserted into the blockchain, but decrypting all the previous blocks is computationally (nearly) impossible, which preserves the integrity of the blockchain."
   ]
  },
  {
   "cell_type": "code",
   "execution_count": 14,
   "metadata": {
    "collapsed": true
   },
   "outputs": [],
   "source": [
    "def make_block(transactions, chain):\n",
    "    \"\"\"Make a block to go into the chain.\"\"\"\n",
    "    parent_hash = chain[-1]['hash']\n",
    "    block_number = chain[-1]['contents']['block_number'] + 1\n",
    "\n",
    "    block_contents = {\n",
    "        'block_number': block_number,\n",
    "        'parent_hash': parent_hash,\n",
    "        'transaction_count': block_number + 1,\n",
    "        'transaction': transactions\n",
    "    }\n",
    "\n",
    "    return {'hash': hash_function(block_contents), 'contents': block_contents}"
   ]
  },
  {
   "cell_type": "markdown",
   "metadata": {},
   "source": [
    "Below is a small helper function to check the hash of the previous block"
   ]
  },
  {
   "cell_type": "code",
   "execution_count": 15,
   "metadata": {
    "collapsed": true
   },
   "outputs": [],
   "source": [
    "def check_block_hash(block):\n",
    "    expected_hash = hash_function(block['contents'])\n",
    "\n",
    "    if block['hash'] is not expected_hash:\n",
    "        raise\n",
    "\n",
    "    return"
   ]
  },
  {
   "cell_type": "markdown",
   "metadata": {},
   "source": [
    "Once we have assembled everything together, its time to create our block. We will now update the blockchain."
   ]
  },
  {
   "cell_type": "code",
   "execution_count": 16,
   "metadata": {
    "collapsed": true
   },
   "outputs": [],
   "source": [
    "def check_block_validity(block, parent, state):\n",
    "    parent_number = parent['contents']['block_number']\n",
    "    parent_hash = parent['hash']\n",
    "    block_number = block['contents']['block_number']\n",
    "\n",
    "    for transaction in block['contents']['transaction']:\n",
    "        if valid_transaction(transaction, state):\n",
    "            state = update_state(transaction, state)\n",
    "        else:\n",
    "            raise\n",
    "\n",
    "    check_block_hash(block)  # Check hash integrity\n",
    "\n",
    "    if block_number is not parent_number + 1:\n",
    "        raise\n",
    "\n",
    "    if block['contents']['parent_hash'] is not parent_hash:\n",
    "        raise\n",
    "\n",
    "    return state"
   ]
  },
  {
   "cell_type": "markdown",
   "metadata": {},
   "source": [
    "Before we are finished, the chain must be verified"
   ]
  },
  {
   "cell_type": "code",
   "execution_count": 17,
   "metadata": {
    "collapsed": true
   },
   "outputs": [],
   "source": [
    "def check_chain(chain):\n",
    "    \"\"\"Check the chain is valid.\"\"\"\n",
    "    if type(chain) is str:\n",
    "        try:\n",
    "            chain = json.loads(chain)\n",
    "            assert (type(chain) == list)\n",
    "        except ValueError:\n",
    "            # String passed in was not valid JSON\n",
    "            return False\n",
    "    elif type(chain) is not list:\n",
    "        return False\n",
    "\n",
    "    state = {}\n",
    "\n",
    "    for transaction in chain[0]['contents']['transaction']:\n",
    "        state = update_state(transaction, state)\n",
    "\n",
    "    check_block_hash(chain[0])\n",
    "    parent = chain[0]\n",
    "\n",
    "    for block in chain[1:]:\n",
    "        state = check_block_validity(block, parent, state)\n",
    "        parent = block\n",
    "\n",
    "    return state"
   ]
  },
  {
   "cell_type": "markdown",
   "metadata": {},
   "source": [
    "Finally, need a transaction function, which hangs all of the above together"
   ]
  },
  {
   "cell_type": "code",
   "execution_count": 18,
   "metadata": {
    "collapsed": true
   },
   "outputs": [],
   "source": [
    "def add_transaction_to_chain(transaction, state, chain):\n",
    "    if valid_transaction(transaction, state):\n",
    "        state = update_state(transaction, state)\n",
    "    else:\n",
    "        raise Exception('Invalid transaction.')\n",
    "\n",
    "    my_block = make_block(state, chain)\n",
    "    chain.append(my_block)\n",
    "\n",
    "    for transaction in chain:\n",
    "        check_chain(transaction)\n",
    "\n",
    "    return state, chain"
   ]
  },
  {
   "cell_type": "markdown",
   "metadata": {},
   "source": [
    "So, now we have our 7 functions. How do we interact with it? Well, first we need to start our chain with a Genesis Block. This is the inception of our new coin (or stock inventory, etc). Let us start with an example where Tom, will start off with 10 coins."
   ]
  },
  {
   "cell_type": "code",
   "execution_count": 19,
   "metadata": {
    "collapsed": true
   },
   "outputs": [],
   "source": [
    "genesis_block = {\n",
    "    'hash': hash_function({\n",
    "        'block_number': 0,\n",
    "        'parent_hash': None,\n",
    "        'transaction_count': 1,\n",
    "        'transaction': [{'Tom': 10}]\n",
    "    }),\n",
    "    'contents': {\n",
    "        'block_number': 0,\n",
    "        'parent_hash': None,\n",
    "        'transaction_count': 1,\n",
    "        'transaction': [{'Tom': 10}]\n",
    "    },\n",
    "}\n",
    "\n",
    "block_chain = [genesis_block]\n",
    "chain_state = {'Tom': 10}"
   ]
  },
  {
   "cell_type": "markdown",
   "metadata": {},
   "source": [
    "Now, look what happens when I give some coin to Medium:"
   ]
  },
  {
   "cell_type": "code",
   "execution_count": 20,
   "metadata": {
    "collapsed": true
   },
   "outputs": [],
   "source": [
    "chain_state, block_chain = add_transaction_to_chain(transaction={'Tom': -1, 'Medium': 1}, state=chain_state, chain=block_chain)"
   ]
  },
  {
   "cell_type": "code",
   "execution_count": 21,
   "metadata": {},
   "outputs": [
    {
     "data": {
      "text/plain": [
       "[{'contents': {'block_number': 0,\n",
       "   'parent_hash': None,\n",
       "   'transaction': [{'Tom': 10}],\n",
       "   'transaction_count': 1},\n",
       "  'hash': '0797706e1b5b3b65711ad57619ce8905a61a4f87203dc6df10b7b4a0e697824e'},\n",
       " {'contents': {'block_number': 1,\n",
       "   'parent_hash': '0797706e1b5b3b65711ad57619ce8905a61a4f87203dc6df10b7b4a0e697824e',\n",
       "   'transaction': {'Medium': 1, 'Tom': 9},\n",
       "   'transaction_count': 2},\n",
       "  'hash': '043792420641e956d36643ededf926c4eef025c26314b59e651f2044362ade12'}]"
      ]
     },
     "execution_count": 21,
     "metadata": {},
     "output_type": "execute_result"
    }
   ],
   "source": [
    "block_chain"
   ]
  },
  {
   "cell_type": "code",
   "execution_count": 22,
   "metadata": {
    "collapsed": true
   },
   "outputs": [],
   "source": [
    "chain_state, block_chain = add_transaction_to_chain(transaction={'Tom': -1, 'Medium': 1}, state=chain_state, chain=block_chain)"
   ]
  },
  {
   "cell_type": "code",
   "execution_count": 23,
   "metadata": {},
   "outputs": [
    {
     "data": {
      "text/plain": [
       "[{'contents': {'block_number': 0,\n",
       "   'parent_hash': None,\n",
       "   'transaction': [{'Tom': 10}],\n",
       "   'transaction_count': 1},\n",
       "  'hash': '0797706e1b5b3b65711ad57619ce8905a61a4f87203dc6df10b7b4a0e697824e'},\n",
       " {'contents': {'block_number': 1,\n",
       "   'parent_hash': '0797706e1b5b3b65711ad57619ce8905a61a4f87203dc6df10b7b4a0e697824e',\n",
       "   'transaction': {'Medium': 1, 'Tom': 9},\n",
       "   'transaction_count': 2},\n",
       "  'hash': '043792420641e956d36643ededf926c4eef025c26314b59e651f2044362ade12'},\n",
       " {'contents': {'block_number': 2,\n",
       "   'parent_hash': '043792420641e956d36643ededf926c4eef025c26314b59e651f2044362ade12',\n",
       "   'transaction': {'Medium': 2, 'Tom': 8},\n",
       "   'transaction_count': 3},\n",
       "  'hash': 'f246041914ee108c0bd82b85a8c781d1f937f5b51f13af7c86d0368223227e26'}]"
      ]
     },
     "execution_count": 23,
     "metadata": {},
     "output_type": "execute_result"
    }
   ],
   "source": [
    "block_chain"
   ]
  },
  {
   "cell_type": "code",
   "execution_count": 24,
   "metadata": {
    "collapsed": true
   },
   "outputs": [],
   "source": [
    "chain_state, block_chain = add_transaction_to_chain(transaction={'Tom': -2, 'Medium': 2}, state=chain_state, chain=block_chain)"
   ]
  },
  {
   "cell_type": "code",
   "execution_count": 25,
   "metadata": {},
   "outputs": [
    {
     "data": {
      "text/plain": [
       "[{'contents': {'block_number': 0,\n",
       "   'parent_hash': None,\n",
       "   'transaction': [{'Tom': 10}],\n",
       "   'transaction_count': 1},\n",
       "  'hash': '0797706e1b5b3b65711ad57619ce8905a61a4f87203dc6df10b7b4a0e697824e'},\n",
       " {'contents': {'block_number': 1,\n",
       "   'parent_hash': '0797706e1b5b3b65711ad57619ce8905a61a4f87203dc6df10b7b4a0e697824e',\n",
       "   'transaction': {'Medium': 1, 'Tom': 9},\n",
       "   'transaction_count': 2},\n",
       "  'hash': '043792420641e956d36643ededf926c4eef025c26314b59e651f2044362ade12'},\n",
       " {'contents': {'block_number': 2,\n",
       "   'parent_hash': '043792420641e956d36643ededf926c4eef025c26314b59e651f2044362ade12',\n",
       "   'transaction': {'Medium': 2, 'Tom': 8},\n",
       "   'transaction_count': 3},\n",
       "  'hash': 'f246041914ee108c0bd82b85a8c781d1f937f5b51f13af7c86d0368223227e26'},\n",
       " {'contents': {'block_number': 3,\n",
       "   'parent_hash': 'f246041914ee108c0bd82b85a8c781d1f937f5b51f13af7c86d0368223227e26',\n",
       "   'transaction': {'Medium': 4, 'Tom': 6},\n",
       "   'transaction_count': 4},\n",
       "  'hash': 'dc8d15f7c013ce3bd197c072fc3a524d2c32b494685c97e1c57b9d581209f530'}]"
      ]
     },
     "execution_count": 25,
     "metadata": {},
     "output_type": "execute_result"
    }
   ],
   "source": [
    "block_chain"
   ]
  },
  {
   "cell_type": "code",
   "execution_count": 26,
   "metadata": {
    "collapsed": true
   },
   "outputs": [],
   "source": [
    "chain_state, block_chain = add_transaction_to_chain(transaction={'Tom': -1, 'High': 1}, state=chain_state, chain=block_chain)"
   ]
  },
  {
   "cell_type": "code",
   "execution_count": 27,
   "metadata": {},
   "outputs": [
    {
     "data": {
      "text/plain": [
       "[{'contents': {'block_number': 0,\n",
       "   'parent_hash': None,\n",
       "   'transaction': [{'Tom': 10}],\n",
       "   'transaction_count': 1},\n",
       "  'hash': '0797706e1b5b3b65711ad57619ce8905a61a4f87203dc6df10b7b4a0e697824e'},\n",
       " {'contents': {'block_number': 1,\n",
       "   'parent_hash': '0797706e1b5b3b65711ad57619ce8905a61a4f87203dc6df10b7b4a0e697824e',\n",
       "   'transaction': {'Medium': 1, 'Tom': 9},\n",
       "   'transaction_count': 2},\n",
       "  'hash': '043792420641e956d36643ededf926c4eef025c26314b59e651f2044362ade12'},\n",
       " {'contents': {'block_number': 2,\n",
       "   'parent_hash': '043792420641e956d36643ededf926c4eef025c26314b59e651f2044362ade12',\n",
       "   'transaction': {'Medium': 2, 'Tom': 8},\n",
       "   'transaction_count': 3},\n",
       "  'hash': 'f246041914ee108c0bd82b85a8c781d1f937f5b51f13af7c86d0368223227e26'},\n",
       " {'contents': {'block_number': 3,\n",
       "   'parent_hash': 'f246041914ee108c0bd82b85a8c781d1f937f5b51f13af7c86d0368223227e26',\n",
       "   'transaction': {'Medium': 4, 'Tom': 6},\n",
       "   'transaction_count': 4},\n",
       "  'hash': 'dc8d15f7c013ce3bd197c072fc3a524d2c32b494685c97e1c57b9d581209f530'},\n",
       " {'contents': {'block_number': 4,\n",
       "   'parent_hash': 'dc8d15f7c013ce3bd197c072fc3a524d2c32b494685c97e1c57b9d581209f530',\n",
       "   'transaction': {'High': 1, 'Medium': 4, 'Tom': 5},\n",
       "   'transaction_count': 5},\n",
       "  'hash': '71229697ecbfc7744a1ef12bfe060c85d4fc97a7cbe122c8780223f48436517c'}]"
      ]
     },
     "execution_count": 27,
     "metadata": {},
     "output_type": "execute_result"
    }
   ],
   "source": [
    "block_chain"
   ]
  },
  {
   "cell_type": "code",
   "execution_count": null,
   "metadata": {
    "collapsed": true
   },
   "outputs": [],
   "source": []
  }
 ],
 "metadata": {
  "kernelspec": {
   "display_name": "Python 3",
   "language": "python",
   "name": "python3"
  },
  "language_info": {
   "codemirror_mode": {
    "name": "ipython",
    "version": 3
   },
   "file_extension": ".py",
   "mimetype": "text/x-python",
   "name": "python",
   "nbconvert_exporter": "python",
   "pygments_lexer": "ipython3",
   "version": "3.7.4"
  }
 },
 "nbformat": 4,
 "nbformat_minor": 2
}
